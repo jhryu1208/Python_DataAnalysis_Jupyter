{
 "cells": [
  {
   "cell_type": "markdown",
   "metadata": {},
   "source": [
    "### XML 파일 읽고 데이터 추출하기"
   ]
  },
  {
   "cell_type": "markdown",
   "metadata": {},
   "source": [
    "1. open()함수로 xml 데이터 읽기\n",
    "2. xml 데이터 파싱하기\n",
    "3. select()로 원하는 데이터 태그 선택하기\n",
    "    * 리턴값은 리스트 타입\n",
    "    * 원하는 데이터가 하나일 경우에는 select_one()함수 사용\n",
    "    * 실제 데이터는 각 아이템.text로 추출 가능\n",
    " \n",
    "```\n",
    "data_file = open('users.xml', 'r' , encoding = 'utf-8-sig') # 1. XML 데이터 읽기\n",
    "soup = BeautifulSoup(data_file, 'xml')                      # 2. XML 데이터 파싱하기\n",
    "users = soup.select('users')                                # 3. 원하는 데이터 관련 태그 선택하기\n",
    "for user in users:                                          # 4. 리스트 이므로 for문으로 아이템 추출\n",
    "    print(user.text)                                        # 5. 각 아이템.text로 원하는 데이터 출력 \n",
    "```"
   ]
  },
  {
   "cell_type": "markdown",
   "metadata": {},
   "source": [
    "### EX1-1) XML파일 전체 출력"
   ]
  },
  {
   "cell_type": "code",
   "execution_count": 16,
   "metadata": {},
   "outputs": [
    {
     "name": "stdout",
     "output_type": "stream",
     "text": [
      "\n",
      "jhryu1208\n",
      "23\n",
      "\n",
      "\n",
      "jihyun Ryu\n",
      "23\n",
      "\n"
     ]
    }
   ],
   "source": [
    "from bs4 import BeautifulSoup\n",
    "\n",
    "data_file = open('../DataAnalysis_Ref/00_data/users.xml', 'r', encoding = 'utf-8-sig')\n",
    "soup = BeautifulSoup(data_file, 'html.parser')                                         # XML데이터 파싱\n",
    "\n",
    "users = soup.select('user')\n",
    "for user in users:\n",
    "    print(user.text)\n",
    "\n",
    "data_file.close()"
   ]
  },
  {
   "cell_type": "markdown",
   "metadata": {},
   "source": [
    "### EX1-2) XML파일 부분출력"
   ]
  },
  {
   "cell_type": "code",
   "execution_count": 20,
   "metadata": {},
   "outputs": [
    {
     "name": "stdout",
     "output_type": "stream",
     "text": [
      "이름 :  jhryu1208\n",
      "나이 :  23\n",
      "이름 :  jihyun Ryu\n",
      "나이 :  23\n"
     ]
    }
   ],
   "source": [
    "from bs4 import BeautifulSoup\n",
    "\n",
    "data_file = open('../DataAnalysis_Ref/00_data/users.xml','r', encoding = 'utf-8-sig')\n",
    "soup = BeautifulSoup(data_file, 'html.parser')\n",
    "\n",
    "users = soup.select('user')\n",
    "\n",
    "for user in users:\n",
    "    user_name = user.select_one('name')\n",
    "    user_age = user.select_one('age')\n",
    "    print('이름 : ', user_name.text)\n",
    "    print('나이 : ', user_age.text)\n",
    "\n",
    "data_file.close()"
   ]
  },
  {
   "cell_type": "markdown",
   "metadata": {},
   "source": [
    "### EX2) Open API 활용"
   ]
  },
  {
   "cell_type": "code",
   "execution_count": 35,
   "metadata": {},
   "outputs": [
    {
     "name": "stdout",
     "output_type": "stream",
     "text": [
      "휴대폰 찾기\n",
      "휴대폰\n",
      "휴대폰뽐뿌\n",
      "휴대폰 거치대\n",
      "휴대폰 배경화면\n",
      "휴대폰 시세\n",
      "휴대폰케이스\n",
      "휴대폰 포렌식\n",
      "휴대폰으로 사람찾기\n",
      "휴대폰 소액결제 현금화\n"
     ]
    }
   ],
   "source": [
    "import requests\n",
    "from bs4 import BeautifulSoup\n",
    "keyword = '휴대폰'\n",
    "google_related_keyword_api = 'http://suggestqueries.google.com/complete/search?output=toolbar&q='+keyword\n",
    "response = requests.get(google_related_keyword_api)   # requests.get() : 파일이 아니라, 데이터를 open API에서 가져오기 위한 함수\n",
    "soup = BeautifulSoup(response.content, 'html.parser') # 또한, requests.get()의 리턴 값은 객체이다. 따라서 response에는 해당 API의 객체가 저장되었다.\n",
    "\n",
    "# print(response) 를 인쇄하였을때는 <Response[200]>가 출력되고, 이는 요청이 성공되었음을 의미함.\n",
    "# 그리고 이것의 내용을 응답내용을 살펴보기위해서는 .content 모듈을 이용한다.\n",
    "\n",
    "api_csg = soup.select('Suggestion')\n",
    "\n",
    "for api_cs in api_csg:\n",
    "    print(api_cs['data'])\n"
   ]
  },
  {
   "cell_type": "code",
   "execution_count": 42,
   "metadata": {},
   "outputs": [
    {
     "name": "stdout",
     "output_type": "stream",
     "text": [
      "ps5\n",
      "ps5 출시일\n",
      "ps5 가격\n",
      "ps5 controller\n",
      "ps5 하위호환\n",
      "ps5 price\n",
      "ps5 디자인\n",
      "ps5 출시\n",
      "ps5 나무위키\n",
      "ps5 design\n"
     ]
    }
   ],
   "source": [
    "import requests\n",
    "from bs4 import BeautifulSoup\n",
    "\n",
    "keyword = 'ps5'\n",
    "google_related_keyword_api = 'http://suggestqueries.google.com/complete/search?output=toolbar&q='+keyword\n",
    "response_oi=requests.get(google_related_keyword_api)\n",
    "soup = BeautifulSoup(response_oi.content,'html.parser')\n",
    "\n",
    "data = soup.select('suggestion')\n",
    "\n",
    "for i in data:\n",
    "    print(i['data'])"
   ]
  },
  {
   "cell_type": "code",
   "execution_count": 56,
   "metadata": {},
   "outputs": [
    {
     "name": "stdout",
     "output_type": "stream",
     "text": [
      "주식\n",
      "주식갤러리\n",
      "주식시세\n",
      "주식하는법\n",
      "주식 양도세\n",
      "주식 세금\n",
      "주식회사\n",
      "주식 양도소득세\n",
      "주식투자\n",
      "주식 계좌 개설\n"
     ]
    }
   ],
   "source": [
    "import requests\n",
    "from bs4 import BeautifulSoup\n",
    "keyword = '주식'\n",
    "google_related_keyword_api='http://suggestqueries.google.com/complete/search?output=toolbar&q='+keyword\n",
    "response = requests.get(google_related_keyword_api)\n",
    "soup = BeautifulSoup(response.content, 'html.parser')\n",
    "\n",
    "datas1 = soup.select('suggestion')\n",
    "\n",
    "for item in datas1:\n",
    "    print(item['data'])"
   ]
  },
  {
   "cell_type": "code",
   "execution_count": 59,
   "metadata": {},
   "outputs": [
    {
     "name": "stdout",
     "output_type": "stream",
     "text": [
      "github\n",
      "github 사용법\n",
      "github desktop\n",
      "github repository 삭제\n",
      "github action\n",
      "github io\n",
      "github 블로그\n",
      "github desktop 사용법\n",
      "github api\n",
      "github gist\n"
     ]
    }
   ],
   "source": [
    "import requests\n",
    "from bs4 import BeautifulSoup\n",
    "\n",
    "keyword = 'Github'\n",
    "google_related_keyword_api = 'http://suggestqueries.google.com/complete/search?output=toolbar&q='+keyword\n",
    "\n",
    "response = requests.get(google_related_keyword_api)\n",
    "soup = BeautifulSoup(response.content, 'html.parser')\n",
    "datas1 = soup.select('suggestion')\n",
    "\n",
    "for item in datas1:\n",
    "    print(item['data'])\n"
   ]
  }
 ],
 "metadata": {
  "kernelspec": {
   "display_name": "Python 3",
   "language": "python",
   "name": "python3"
  },
  "language_info": {
   "codemirror_mode": {
    "name": "ipython",
    "version": 3
   },
   "file_extension": ".py",
   "mimetype": "text/x-python",
   "name": "python",
   "nbconvert_exporter": "python",
   "pygments_lexer": "ipython3",
   "version": "3.7.7"
  }
 },
 "nbformat": 4,
 "nbformat_minor": 4
}
