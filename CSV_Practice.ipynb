{
 "cells": [
  {
   "cell_type": "markdown",
   "metadata": {},
   "source": [
    "### EX1-1) CSV 파일 첫 문장 읽어오기"
   ]
  },
  {
   "cell_type": "code",
   "execution_count": 24,
   "metadata": {
    "scrolled": true
   },
   "outputs": [
    {
     "name": "stdout",
     "output_type": "stream",
     "text": [
      "['video_id', 'title', 'channel_title', 'category_id', 'tags', 'views', 'likes', 'dislikes', 'comment_total', 'thumbnail_link', 'date']\n"
     ]
    }
   ],
   "source": [
    "import csv\n",
    "\n",
    "data_file=open('../DataAnalysis_Ref/00_data/USvideos.csv','r',encoding='utf-8-sig')\n",
    "data_lines = csv.reader(data_file, delimiter=',')\n",
    "for data_line in data_lines:\n",
    "    print(data_line)\n",
    "    break\n",
    "    \n",
    "data_file.close()"
   ]
  },
  {
   "cell_type": "markdown",
   "metadata": {},
   "source": [
    "### EX1-2) CSV 파일 첫 문장의 첫 번쨰 인덱스 읽어오기"
   ]
  },
  {
   "cell_type": "code",
   "execution_count": 20,
   "metadata": {},
   "outputs": [
    {
     "name": "stdout",
     "output_type": "stream",
     "text": [
      "video_id\n"
     ]
    }
   ],
   "source": [
    "import csv\n",
    "\n",
    "data_file=open('../DataAnalysis_Ref/00_data/USvideos.csv','r',encoding='utf-8-sig')\n",
    "data_lines=csv.reader(data_file, delimiter=',')\n",
    "for data_line in data_lines:\n",
    "    print(data_line[0])\n",
    "    break\n",
    "\n",
    "data_file.close()"
   ]
  },
  {
   "cell_type": "markdown",
   "metadata": {},
   "source": [
    "### EX1-3) CSV with문법으로 읽어오기"
   ]
  },
  {
   "cell_type": "code",
   "execution_count": 26,
   "metadata": {
    "scrolled": true
   },
   "outputs": [
    {
     "name": "stdout",
     "output_type": "stream",
     "text": [
      "['video_id', 'title', 'channel_title', 'category_id', 'tags', 'views', 'likes', 'dislikes', 'comment_total', 'thumbnail_link', 'date']\n"
     ]
    }
   ],
   "source": [
    "import csv\n",
    "\n",
    "with open('../DataAnalysis_Ref/00_data/USvideos.csv','r',encoding='utf-8-sig') as reader_csv:\n",
    "    data_lines = csv.reader(reader_csv, delimiter=',')\n",
    "  \n",
    "    for data_line in data_lines:\n",
    "            print(data_line)\n",
    "            break"
   ]
  },
  {
   "cell_type": "markdown",
   "metadata": {},
   "source": [
    "### EX 2-1) CSV 파일 쓰기"
   ]
  },
  {
   "cell_type": "code",
   "execution_count": 2,
   "metadata": {},
   "outputs": [],
   "source": [
    "import csv\n",
    "data_file = open('../DataAnalysis_Ref/00_data/tmp_csv.csv', 'w', encoding = 'utf-8-sig', newline='')\n",
    "data_write = csv.writer(data_file, delimiter=',')\n",
    "data_write.writerow(['1','2','3'])\n",
    "data_file.close()"
   ]
  },
  {
   "cell_type": "markdown",
   "metadata": {},
   "source": [
    "### EX 2-2) CSV with 문법으로 쓰기"
   ]
  },
  {
   "cell_type": "code",
   "execution_count": 9,
   "metadata": {},
   "outputs": [],
   "source": [
    "import csv\n",
    "with open('../DataAnalysis_Ref/00_data/tmp_csv.csv', 'w', encoding = 'utf-8-sig', newline='') as writer_csv:\n",
    "    writer = csv.writer(writer_csv,delimiter=',')\n",
    "    writer.writerow(['love']*3 + ['banana'])\n",
    "    writer.writerow(['apple',2])\n",
    "    writer.writerow(['Spam', 'Lovely Spam', 'Wonderful Spam'])"
   ]
  },
  {
   "cell_type": "code",
   "execution_count": 11,
   "metadata": {},
   "outputs": [
    {
     "name": "stdout",
     "output_type": "stream",
     "text": [
      "['love', 'love', 'love', 'banana']\n",
      "['apple', '2']\n",
      "['Spam', 'Lovely Spam', 'Wonderful Spam']\n"
     ]
    }
   ],
   "source": [
    "import csv\n",
    "with open('../DataAnalysis_Ref/00_data/tmp_csv.csv', 'r', encoding = 'utf-8-sig') as reader_csv:\n",
    "    readlines = csv.reader(reader_csv, delimiter=',')\n",
    "    for i in readlines:\n",
    "        print(i)"
   ]
  },
  {
   "cell_type": "markdown",
   "metadata": {},
   "source": [
    "### EX 3-1) CSV 파일 읽기/쓰기 (사전타입으로 파일 읽기/쓰기)"
   ]
  },
  {
   "cell_type": "code",
   "execution_count": 15,
   "metadata": {},
   "outputs": [],
   "source": [
    "import csv\n",
    "with open('../DataAnalysis_Ref/00_data/dict_csv.csv','w',encoding='utf-8-sig', newline='') as writer_dict:\n",
    "    field_name_list = ['First Name', 'Last Name'] # 필드명 정의\n",
    "    writer = csv.DictWriter(writer_dict, fieldnames = field_name_list) # (중요)필드명 선언\n",
    "    writer.writeheader() # CSV 파일 상단에 필드명을 삽입 (없어도됨, but 주로 삽입)\n",
    "    writer.writerow({'First Name' : 'Jihyun', 'Last Name' : 'Ryu'})\n",
    "    writer.writerow({'First Name' : 'Hyunsook', 'Last Name' : 'Jin'})\n",
    "    writer.writerow({'First Name' : 'Sooyeol', 'Last Name' : 'Ryu'})"
   ]
  },
  {
   "cell_type": "code",
   "execution_count": 18,
   "metadata": {},
   "outputs": [
    {
     "name": "stdout",
     "output_type": "stream",
     "text": [
      "Ryu , Jihyun\n",
      "Jin , Hyunsook\n",
      "Ryu , Sooyeol\n"
     ]
    }
   ],
   "source": [
    "import csv\n",
    "with open('../DataAnalysis_Ref/00_data/dict_csv.csv','r',encoding='utf-8-sig') as reader_dict:\n",
    "    reader = csv.DictReader(reader_dict)\n",
    "    for row in reader:\n",
    "        print(row['Last Name'],',',row['First Name'])"
   ]
  }
 ],
 "metadata": {
  "kernelspec": {
   "display_name": "Python 3",
   "language": "python",
   "name": "python3"
  },
  "language_info": {
   "codemirror_mode": {
    "name": "ipython",
    "version": 3
   },
   "file_extension": ".py",
   "mimetype": "text/x-python",
   "name": "python",
   "nbconvert_exporter": "python",
   "pygments_lexer": "ipython3",
   "version": "3.7.7"
  }
 },
 "nbformat": 4,
 "nbformat_minor": 4
}
