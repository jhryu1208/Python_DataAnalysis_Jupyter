{
 "cells": [
  {
   "cell_type": "markdown",
   "metadata": {},
   "source": [
    "### EX1-1) CSV 파일 첫 문장 읽어오기"
   ]
  },
  {
   "cell_type": "code",
   "execution_count": 24,
   "metadata": {
    "scrolled": true
   },
   "outputs": [
    {
     "name": "stdout",
     "output_type": "stream",
     "text": [
      "['video_id', 'title', 'channel_title', 'category_id', 'tags', 'views', 'likes', 'dislikes', 'comment_total', 'thumbnail_link', 'date']\n"
     ]
    }
   ],
   "source": [
    "import csv\n",
    "\n",
    "data_file=open('../DataAnalysis_Ref/00_data/USvideos.csv','r',encoding='utf-8-sig')\n",
    "data_lines = csv.reader(data_file, delimiter=',')\n",
    "for data_line in data_lines:\n",
    "    print(data_line)\n",
    "    break\n",
    "    \n",
    "data_file.close()"
   ]
  },
  {
   "cell_type": "markdown",
   "metadata": {},
   "source": [
    "### EX1-2) CSV 파일 첫 문장의 첫 번쨰 인덱스 읽어오기"
   ]
  },
  {
   "cell_type": "code",
   "execution_count": 20,
   "metadata": {},
   "outputs": [
    {
     "name": "stdout",
     "output_type": "stream",
     "text": [
      "video_id\n"
     ]
    }
   ],
   "source": [
    "import csv\n",
    "\n",
    "data_file=open('../DataAnalysis_Ref/00_data/USvideos.csv','r',encoding='utf-8-sig')\n",
    "data_lines=csv.reader(data_file, delimiter=',')\n",
    "for data_line in data_lines:\n",
    "    print(data_line[0])\n",
    "    break\n",
    "\n",
    "data_file.close()"
   ]
  },
  {
   "cell_type": "markdown",
   "metadata": {},
   "source": [
    "### EX1-3) CSV with문법으로 읽어오기"
   ]
  },
  {
   "cell_type": "code",
   "execution_count": 26,
   "metadata": {
    "scrolled": true
   },
   "outputs": [
    {
     "name": "stdout",
     "output_type": "stream",
     "text": [
      "['video_id', 'title', 'channel_title', 'category_id', 'tags', 'views', 'likes', 'dislikes', 'comment_total', 'thumbnail_link', 'date']\n"
     ]
    }
   ],
   "source": [
    "import csv\n",
    "\n",
    "with open('../DataAnalysis_Ref/00_data/USvideos.csv','r',encoding='utf-8-sig') as reader_csv:\n",
    "    data_lines = csv.reader(reader_csv, delimiter=',')\n",
    "  \n",
    "    for data_line in data_lines:\n",
    "            print(data_line)\n",
    "            break"
   ]
  },
  {
   "cell_type": "markdown",
   "metadata": {},
   "source": []
  },
  {
   "cell_type": "code",
   "execution_count": null,
   "metadata": {},
   "outputs": [],
   "source": []
  }
 ],
 "metadata": {
  "kernelspec": {
   "display_name": "Python 3",
   "language": "python",
   "name": "python3"
  },
  "language_info": {
   "codemirror_mode": {
    "name": "ipython",
    "version": 3
   },
   "file_extension": ".py",
   "mimetype": "text/x-python",
   "name": "python",
   "nbconvert_exporter": "python",
   "pygments_lexer": "ipython3",
   "version": "3.7.7"
  }
 },
 "nbformat": 4,
 "nbformat_minor": 4
}
