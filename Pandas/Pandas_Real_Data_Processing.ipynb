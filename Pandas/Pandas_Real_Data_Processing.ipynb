{
 "cells": [
  {
   "cell_type": "markdown",
   "metadata": {},
   "source": [
    "## Raw Data를 파이썬으로 조작하여 만든 그래프"
   ]
  },
  {
   "cell_type": "markdown",
   "metadata": {},
   "source": [
    "### [ 1. 데이터 시각화 ]\n",
    "- 데이터 분석 결과를 쉽게 이해할 수 있도록 시각적으로 표현하고 전달되는 과정\n",
    "- 결과를 쉽게 알아보기 위해 데이터 시각화는 필수적이다.\n",
    "- https://app.flourish.studio"
   ]
  },
  {
   "cell_type": "markdown",
   "metadata": {},
   "source": [
    "### [ 2. 데이터 시각화를 위한 데이터 포멧 이해]\n",
    "- 데이터 시각화를 위해, raw data를 변환해야한다.\n",
    "- 필요 데이터 : 국가명, 국기, 날짜별 확진자 수\n",
    "\n",
    "<img src=\"https://www.fun-coding.org/00_Images/covid_ex_data_format.jpg\" />"
   ]
  }
 ],
 "metadata": {
  "kernelspec": {
   "display_name": "Python 3",
   "language": "python",
   "name": "python3"
  },
  "language_info": {
   "codemirror_mode": {
    "name": "ipython",
    "version": 3
   },
   "file_extension": ".py",
   "mimetype": "text/x-python",
   "name": "python",
   "nbconvert_exporter": "python",
   "pygments_lexer": "ipython3",
   "version": "3.7.7"
  }
 },
 "nbformat": 4,
 "nbformat_minor": 4
}
